{
 "cells": [
  {
   "cell_type": "markdown",
   "id": "552454fe",
   "metadata": {},
   "source": [
    "# 2.- Euler-Maruyama method\n",
    "## Contents\n",
    "### [A. Stochastic differential equations](#sde)\n",
    "### [B. Brownian Motion](#brownian)\n",
    "### [C. Euler-Maruyama method](#em)"
   ]
  },
  {
   "cell_type": "code",
   "execution_count": null,
   "id": "da66e9ed",
   "metadata": {},
   "outputs": [],
   "source": []
  }
 ],
 "metadata": {
  "kernelspec": {
   "display_name": "Python 3 (ipykernel)",
   "language": "python",
   "name": "python3"
  },
  "language_info": {
   "codemirror_mode": {
    "name": "ipython",
    "version": 3
   },
   "file_extension": ".py",
   "mimetype": "text/x-python",
   "name": "python",
   "nbconvert_exporter": "python",
   "pygments_lexer": "ipython3",
   "version": "3.9.7"
  }
 },
 "nbformat": 4,
 "nbformat_minor": 5
}
