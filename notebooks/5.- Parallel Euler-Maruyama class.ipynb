{
 "cells": [
  {
   "attachments": {},
   "cell_type": "markdown",
   "id": "cf534b09",
   "metadata": {},
   "source": [
    "# 5.- Parallel Euler-Maruyama class\n",
    "\n",
    "In our previous explanations, we covered the process of solving a Stochastic Differential Equation (SDE) using the Euler-Maruyama method. Moreover, we learnt to encapsulate the logic of the EM method into a Python class, the `EulerMaruyama`. This class implementation provides code reusability and modularity, making the `EulerMaruyama` class a versatile numerical tool for solving user-defined SDEs. It also allows us to analyse the performance of the EM method by modifying input parameters such as the number of time steps or the number of simulations.\n",
    "\n",
    "The aim of this notebook is to improve the performance of the already implemented `EulerMaruyama` class. To achieve this, we will design a child class of `EulerMaruyama` class that provides parallel computing to optimise the numerical solution of the EM method. This new class introduces the concept of parallel computation and highlights the advantages of object-oriented programming, refreshing the concept of inheritance."
   ]
  },
  {
   "attachments": {},
   "cell_type": "markdown",
   "id": "821ac275",
   "metadata": {},
   "source": [
    "## Contents\n",
    "### [A. Parallel computation: the joblib package](#joblib)\n",
    "### [B. The Parallel Euler-Maruyama class](#parallel-em-class)"
   ]
  },
  {
   "attachments": {},
   "cell_type": "markdown",
   "id": "85003ff3",
   "metadata": {},
   "source": [
    "<a id=\"joblib\"></a>\n",
    "### A. Parallel computation: the joblib package\n",
    "\n",
    "Parallel computing refers to the technique of executing several computational tasks simultaneously, dividing the required workload across multiple cores. The presence of multiple cores in modern laptops, and the availability of High Performance Computing (HPC) resources (such as [those at Imperial](https://www.imperial.ac.uk/computational-methods/hpc/)) enables parallel processing, where different cores can handle separate tasks. By relying on this core multiplicity, parallel computation can significantly speed up computations that can be divided into independent parts. By harnessing the power of parallel processing, parallel computing enables faster execution times, improved performance, and the ability to handle larger and more complex computations. To learn more about parallel computing in Python, you can refer to the following link: [Python Concurrency - What is Parallelism?](https://realpython.com/python-concurrency/#what-is-parallelism). Please note that the linked resource covers additional topics beyond the scope of this project.\n",
    "\n",
    "With the following code, you can check the number of CPU cores in your local machine:"
   ]
  },
  {
   "cell_type": "code",
   "execution_count": 1,
   "id": "59c6dc46",
   "metadata": {},
   "outputs": [
    {
     "name": "stdout",
     "output_type": "stream",
     "text": [
      "Number of CPU cores: 10\n"
     ]
    }
   ],
   "source": [
    "import joblib\n",
    "\n",
    "num_cores = joblib.cpu_count()\n",
    "print(\"Number of CPU cores:\", num_cores)"
   ]
  },
  {
   "attachments": {},
   "cell_type": "markdown",
   "id": "66fbd222",
   "metadata": {},
   "source": [
    "Here, we have introduced the Python `joblib` package, which simplifies and automates parallel computing tasks. It provides easy-to-use functions and utilities for distributing tasks across multiple cores, without requiring intricate low-level coding. `joblib` offers a high-level interface for parallel computing, making it accessible and convenient for users who want to leverage the power of parallel processing without dealing with the complexities of threading or multiprocessing in Python. You can check the `joblib` documentation in this [link](https://joblib.readthedocs.io/en/stable/).\n",
    "\n",
    "\n",
    "To illustrate the advantages of parallel computing, we show a simple example using the `joblib` package. Through this example, we demonstrate how parallel processing can significantly reduce computation time yielding an equivalent result."
   ]
  },
  {
   "cell_type": "code",
   "execution_count": 2,
   "id": "d888dc3c",
   "metadata": {},
   "outputs": [],
   "source": [
    "# Import required functions from joblib\n",
    "from joblib import Parallel, delayed\n",
    "import time\n",
    "\n",
    "def process_data(data):\n",
    "    time.sleep(1)  # this line waits for 1s to simulate the behaviour of a time-consuming task \n",
    "    result = data * 2\n",
    "    return result"
   ]
  },
  {
   "cell_type": "code",
   "execution_count": 3,
   "id": "08b7e7df",
   "metadata": {},
   "outputs": [],
   "source": [
    "# Compute a sequential processing: all calculations are done in 1 single core\n",
    "start_time = time.time()\n",
    "results_seq = [process_data(data) for data in range(10)]\n",
    "end_time = time.time()\n",
    "seq_time = end_time - start_time"
   ]
  },
  {
   "cell_type": "code",
   "execution_count": 4,
   "id": "d858535b",
   "metadata": {},
   "outputs": [],
   "source": [
    "# Compute a parallel processing: all calculations are split into 4 cores. \n",
    "start_time = time.time()\n",
    "# This is the joblib implementation to send all elements of the for loop into distinct cores\n",
    "# The cores are specified with the n_job parameter. Here, we specify 4 cores.\n",
    "results_parallel = Parallel(n_jobs=4)(delayed(process_data)(data) for data in range(10))\n",
    "end_time = time.time()\n",
    "parallel_time = end_time - start_time"
   ]
  },
  {
   "cell_type": "code",
   "execution_count": 5,
   "id": "2c52a2ba",
   "metadata": {},
   "outputs": [
    {
     "name": "stdout",
     "output_type": "stream",
     "text": [
      "Sequential Results: [0, 2, 4, 6, 8, 10, 12, 14, 16, 18] in 10.04 s\n",
      "Parallel Results: [0, 2, 4, 6, 8, 10, 12, 14, 16, 18] in 3.63 s\n"
     ]
    }
   ],
   "source": [
    "# Check results\n",
    "print(f\"Sequential Results: {results_seq} in {seq_time:.2f} s\" )\n",
    "print(f\"Parallel Results: {results_parallel} in {parallel_time:.2f} s\")"
   ]
  },
  {
   "attachments": {},
   "cell_type": "markdown",
   "id": "4993f80a",
   "metadata": {},
   "source": [
    "By using 4 cores, we reduce 50% of the computation time! Now, let us try a different numbers of `n_jobs` values to see the effect in the computation time."
   ]
  },
  {
   "cell_type": "code",
   "execution_count": 6,
   "id": "57b9bc16",
   "metadata": {},
   "outputs": [
    {
     "name": "stdout",
     "output_type": "stream",
     "text": [
      "Parallel Results with n_jobs=1: [0, 2, 4, 6, 8, 10, 12, 14, 16, 18] in 10.05 s\n"
     ]
    }
   ],
   "source": [
    "# n_jobs=1 means no parallel computation\n",
    "start_time = time.time()\n",
    "results_parallel = Parallel(n_jobs=1)(delayed(process_data)(data) for data in range(10))\n",
    "end_time = time.time()\n",
    "parallel_time = end_time - start_time\n",
    "\n",
    "print(f\"Parallel Results with n_jobs=1: {results_parallel} in {parallel_time:.2f} s\")"
   ]
  },
  {
   "cell_type": "code",
   "execution_count": 7,
   "id": "b8e5526e",
   "metadata": {},
   "outputs": [
    {
     "name": "stdout",
     "output_type": "stream",
     "text": [
      "Parallel Results with n_jobs=2: [0, 2, 4, 6, 8, 10, 12, 14, 16, 18] in 5.56 s\n"
     ]
    }
   ],
   "source": [
    "# 2 cores \n",
    "start_time = time.time()\n",
    "results_parallel = Parallel(n_jobs=2)(delayed(process_data)(data) for data in range(10))\n",
    "end_time = time.time()\n",
    "parallel_time = end_time - start_time\n",
    "\n",
    "print(f\"Parallel Results with n_jobs=2: {results_parallel} in {parallel_time:.2f} s\")"
   ]
  },
  {
   "cell_type": "code",
   "execution_count": 8,
   "id": "bcd3561d",
   "metadata": {},
   "outputs": [
    {
     "name": "stdout",
     "output_type": "stream",
     "text": [
      "Parallel Results with n_jobs=6: [0, 2, 4, 6, 8, 10, 12, 14, 16, 18] in 2.62 s\n"
     ]
    }
   ],
   "source": [
    "# 6 cores\n",
    "start_time = time.time()\n",
    "results_parallel = Parallel(n_jobs=6)(delayed(process_data)(data) for data in range(10))\n",
    "end_time = time.time()\n",
    "parallel_time = end_time - start_time\n",
    "\n",
    "print(f\"Parallel Results with n_jobs=6: {results_parallel} in {parallel_time:.2f} s\")"
   ]
  },
  {
   "cell_type": "code",
   "execution_count": 9,
   "id": "8a43beeb",
   "metadata": {},
   "outputs": [
    {
     "name": "stdout",
     "output_type": "stream",
     "text": [
      "Parallel Results with n_jobs=10: [0, 2, 4, 6, 8, 10, 12, 14, 16, 18] in 1.52 s\n"
     ]
    }
   ],
   "source": [
    "# 10 cores\n",
    "# Note that if your laptop has less cores, setting this to 10 would be equivalent to setting maximum number of cores\n",
    "start_time = time.time()\n",
    "results_parallel = Parallel(n_jobs=10)(delayed(process_data)(data) for data in range(10))\n",
    "end_time = time.time()\n",
    "parallel_time = end_time - start_time\n",
    "\n",
    "print(f\"Parallel Results with n_jobs=10: {results_parallel} in {parallel_time:.2f} s\")"
   ]
  },
  {
   "attachments": {},
   "cell_type": "markdown",
   "id": "a75adce1",
   "metadata": {},
   "source": [
    "`n_jobs=10` yields the minimum time elapsed in this particular example. This result is specific of this simple example, since we can allocate each element of the for loop into a different core. This ensures that the workload is evenly distributed across the cores, processing `process_data` only once in each core. The optimal value of `n_jobs` will depend on the specific task at hand."
   ]
  },
  {
   "attachments": {},
   "cell_type": "markdown",
   "id": "fc2baed4",
   "metadata": {},
   "source": [
    "<a id=\"parallel-em-class\"></a>\n",
    "### B. The Parallel Euler-Maruyama class\n",
    "\n",
    "Once we have explained parallel computing and how to use the `joblib` package, we introduce a new class `ParallelEulerMaruyama` in the `src/euler_maruyama/parallel_euler_maruyama.py` file. This class replicates the functionality of the `EulerMaruyama` class and provides parallel computation of the numerical approximation. We achieve such functionality relying on class inheritance. Therefore, `ParallelEulerMaruyama` is a child class of `EulerMaruyama`:\n",
    "\n",
    "```python\n",
    "from .euler_maruyama import EulerMaruyama\n",
    "\n",
    "class ParallelEulerMaruyama(EulerMaruyama):\n",
    "```\n",
    "\n",
    "By doing so, `ParallelEulerMaruyama` has the same attributes and methods that `EulerMaruyama`. Now, our aim is to modify the `compute_numerical_approximation` method to include the parallel computing. If we define a new method called `compute_numerical_approximation` in the `ParallelEulerMaruyama` class, we are overriding this method. Overriding a method redefines the implementation of the parent class. When a method if overridden, the child class provides a different implementation of the method, replacing the logic inherited from the parent class. By overriding a method, we can redefine the behavior of a particular method for a specific child class, allowing it to have its own unique functionality while still inheriting other characteristics from the parent class.\n",
    "\n",
    "```python\n",
    "from .euler_maruyama import EulerMaruyama\n",
    "\n",
    "class ParallelEulerMaruyama(EulerMaruyama):\n",
    "\n",
    "    # __init__ and some code ...\n",
    "\n",
    "    def compute_numerical_approximation(self) -> np.ndarray:\n",
    "        # a distinct implementation from compute_numerical_approximation of EulerMaruyama\n",
    "```\n",
    "\n",
    "The `EulerMaruyama` class performs the numerical solution for all simulated trajectories simultaneously. By using `numpy` vectorisation, the method `_solve_numerical_approximation` efficiently updates the numerical approximation across all time steps for the specified number (`dim`) of simulated trajectories. This is precisely the reason of implementing the method `compute_numerical_approximation` in `EulerMaruyama` class as follows:\n",
    "\n",
    "```python\n",
    "def compute_numerical_approximation(self) -> np.ndarray:\n",
    "    self.Y = self._solve_numerical_approximation(dim=self._n_sim)  # we are solving for all _n_sim simulations \n",
    "    return self.Y\n",
    "```\n",
    "\n",
    "On the other hand, we would like to split all specified simulations `_n_sim` into different batches. and compute each batch in a different core. To achieve this, we use the parallel computing approach we have commented in the previous section. Therefore, we require to define a number of batches and split the number of simulations `_n_sim` into different batches. The number of batches is specified in the class constructor with `n_jobs`, which follows a property pattern. The `_num_sim_bat` method then calculates the number of simulations that should be in each batch:\n",
    "\n",
    "```python\n",
    "def _num_sim_batch(self) -> list[int]:\n",
    "    batch_size = self._n_sim // self._n_jobs\n",
    "    remainder = self._n_sim % self._n_jobs\n",
    "\n",
    "    batches = [batch_size] * (self._n_jobs - remainder) + [batch_size + 1] * remainder\n",
    "\n",
    "    return batches\n",
    "```\n",
    "\n",
    "For example, for `_n_sim=1234` and `_n_jobs=3`, `_num_sim_batch` returns: `[411, 411, 412]`. We can use the result of `_num_sim_batch` inside the `compute_numerical_approximation` of `ParallelEulerMaruyama`:\n",
    "\n",
    "```python\n",
    "def compute_numerical_approximation(self) -> np.ndarray:\n",
    "    Y_dim_batch_list = self._num_sim_batch()\n",
    "\n",
    "    Y = Parallel(n_jobs=self._n_jobs)(\n",
    "        delayed(self._solve_numerical_approximation)(dim=Y_dim) for Y_dim in Y_dim_batch_list\n",
    "    )\n",
    "\n",
    "    self.Y = np.concatenate(Y, axis=0)\n",
    "\n",
    "    return self.Y\n",
    "```\n",
    "\n",
    "We have our parallel computation of the EM method! We will solve a particular SDE with different parameters to see the advantage of using parallel processing. "
   ]
  },
  {
   "cell_type": "code",
   "execution_count": 10,
   "id": "7ea39e06",
   "metadata": {},
   "outputs": [],
   "source": [
    "import sys\n",
    " \n",
    "# we include outside folders in path\n",
    "sys.path.append('..')\n",
    "\n",
    "from src.euler_maruyama import ConstantDiffusion, EulerMaruyama, LinearDrift, ParallelEulerMaruyama"
   ]
  },
  {
   "cell_type": "code",
   "execution_count": 11,
   "id": "74eccf81",
   "metadata": {},
   "outputs": [],
   "source": [
    "linear_drift = LinearDrift(a=1)  # drift (mu) = 1*t\n",
    "constant_diffusion = ConstantDiffusion(b=2.5)  # diffusion (sigma) = 2.5 "
   ]
  },
  {
   "attachments": {},
   "cell_type": "markdown",
   "id": "d85afd8b",
   "metadata": {},
   "source": [
    "We start with the simple example of `n_steps=100` and `n_sim=1_000`."
   ]
  },
  {
   "cell_type": "code",
   "execution_count": 12,
   "id": "26aea349",
   "metadata": {},
   "outputs": [],
   "source": [
    "em = EulerMaruyama(t_0=0, \n",
    "                   t_n=2, \n",
    "                   n_steps=100, \n",
    "                   X_0=1, \n",
    "                   drift=linear_drift, \n",
    "                   diffusion=constant_diffusion, \n",
    "                   n_sim=1_000)"
   ]
  },
  {
   "cell_type": "code",
   "execution_count": 13,
   "id": "7d5838f8",
   "metadata": {},
   "outputs": [],
   "source": [
    "start_time = time.time()\n",
    "results_seq_em = em.compute_numerical_approximation()\n",
    "end_time = time.time()\n",
    "seq_em_time = end_time - start_time"
   ]
  },
  {
   "attachments": {},
   "cell_type": "markdown",
   "id": "3761d20b",
   "metadata": {},
   "source": [
    "And we try with `n_jobs=2`"
   ]
  },
  {
   "cell_type": "code",
   "execution_count": 14,
   "id": "4d3093b5",
   "metadata": {},
   "outputs": [],
   "source": [
    "parallel_em = ParallelEulerMaruyama(t_0=0, \n",
    "                                    t_n=2, \n",
    "                                    n_steps=100, \n",
    "                                    X_0=1, \n",
    "                                    drift=linear_drift, \n",
    "                                    diffusion=constant_diffusion, \n",
    "                                    n_sim=1_000, \n",
    "                                    n_jobs=2)"
   ]
  },
  {
   "cell_type": "code",
   "execution_count": 15,
   "id": "f7d92a2d",
   "metadata": {},
   "outputs": [],
   "source": [
    "start_time = time.time()\n",
    "results_parallel_em = parallel_em.compute_numerical_approximation()\n",
    "end_time = time.time()\n",
    "parallel_em_time = end_time - start_time"
   ]
  },
  {
   "cell_type": "code",
   "execution_count": 16,
   "id": "2b44d004",
   "metadata": {},
   "outputs": [
    {
     "name": "stdout",
     "output_type": "stream",
     "text": [
      "Time elapsed in EulerMaruyama class: 0.01 s\n",
      "Time elapsed in ParallelEulerMaruyama class with n_jobs=2: 0.81 s\n"
     ]
    }
   ],
   "source": [
    "print(f\"Time elapsed in EulerMaruyama class: {seq_em_time:.2f} s\")\n",
    "print(f\"Time elapsed in ParallelEulerMaruyama class with n_jobs={parallel_em.n_jobs}: {parallel_em_time:.2f} s\")"
   ]
  },
  {
   "attachments": {},
   "cell_type": "markdown",
   "id": "a904a086",
   "metadata": {},
   "source": [
    "It seems that for this simple and reduced example `numpy` vectorisation is faster than parallel processing. This is because setting up the parallel processing run with `joblib` and the recombination of the arrays with `numpy.concatenate` introduces extra work, which slows down the code. For relatively small tasks this more than offsets the gains made in the parallelisation of the task.\n",
    "\n",
    "Let us try another number of `n_jobs`:"
   ]
  },
  {
   "cell_type": "code",
   "execution_count": 17,
   "id": "53579c62",
   "metadata": {},
   "outputs": [
    {
     "name": "stdout",
     "output_type": "stream",
     "text": [
      "Time elapsed in ParallelEulerMaruyama class with n_jobs=5: 0.85 s\n"
     ]
    }
   ],
   "source": [
    "parallel_em.n_jobs = 5\n",
    "start_time = time.time()\n",
    "results_parallel_em = parallel_em.compute_numerical_approximation()\n",
    "end_time = time.time()\n",
    "parallel_em_time = end_time - start_time\n",
    "print(f\"Time elapsed in ParallelEulerMaruyama class with n_jobs={parallel_em.n_jobs}: {parallel_em_time:.2f} s\")"
   ]
  },
  {
   "cell_type": "code",
   "execution_count": 18,
   "id": "88ac7fa0",
   "metadata": {},
   "outputs": [
    {
     "name": "stdout",
     "output_type": "stream",
     "text": [
      "Time elapsed in ParallelEulerMaruyama class with n_jobs=10: 1.17 s\n"
     ]
    }
   ],
   "source": [
    "parallel_em.n_jobs = 10\n",
    "start_time = time.time()\n",
    "results_parallel_em = parallel_em.compute_numerical_approximation()\n",
    "end_time = time.time()\n",
    "parallel_em_time = end_time - start_time\n",
    "print(f\"Time elapsed in ParallelEulerMaruyama class with n_jobs={parallel_em.n_jobs}: {parallel_em_time:.2f} s\")"
   ]
  },
  {
   "attachments": {},
   "cell_type": "markdown",
   "id": "eb12de46",
   "metadata": {},
   "source": [
    "No, any value of `n_jobs` improves the performance of the `ParallelEulerMaruyama` over the sequential-style `EulerMaruyama` class. The reason is that the number of steps and number of simulations is such small, that it takes more time to prepare the parallel processing than processing everything into a single core.\n",
    "\n",
    "Now, let us try to increase the number of simulations to `n_sim=1_000_000`:"
   ]
  },
  {
   "cell_type": "code",
   "execution_count": 19,
   "id": "b540af61",
   "metadata": {},
   "outputs": [],
   "source": [
    "em = EulerMaruyama(t_0=0, \n",
    "                   t_n=2, \n",
    "                   n_steps=100, \n",
    "                   X_0=1, \n",
    "                   drift=linear_drift, \n",
    "                   diffusion=constant_diffusion, \n",
    "                   n_sim=1_000_000)"
   ]
  },
  {
   "cell_type": "code",
   "execution_count": 20,
   "id": "6fd1b824",
   "metadata": {},
   "outputs": [],
   "source": [
    "start_time = time.time()\n",
    "results_seq_em = em.compute_numerical_approximation()\n",
    "end_time = time.time()\n",
    "seq_em_time = end_time - start_time"
   ]
  },
  {
   "cell_type": "code",
   "execution_count": 21,
   "id": "7b1ff8ae",
   "metadata": {},
   "outputs": [],
   "source": [
    "parallel_em = ParallelEulerMaruyama(t_0=0, \n",
    "                                    t_n=2, \n",
    "                                    n_steps=100, \n",
    "                                    X_0=1, \n",
    "                                    drift=linear_drift, \n",
    "                                    diffusion=constant_diffusion, \n",
    "                                    n_sim=1_000_000, \n",
    "                                    n_jobs=2)"
   ]
  },
  {
   "cell_type": "code",
   "execution_count": 22,
   "id": "bcf6bfe1",
   "metadata": {},
   "outputs": [],
   "source": [
    "start_time = time.time()\n",
    "results_parallel_em = parallel_em.compute_numerical_approximation()\n",
    "end_time = time.time()\n",
    "parallel_em_time = end_time - start_time"
   ]
  },
  {
   "cell_type": "code",
   "execution_count": 23,
   "id": "9d41ec01",
   "metadata": {},
   "outputs": [
    {
     "name": "stdout",
     "output_type": "stream",
     "text": [
      "Time elapsed in EulerMaruyama class: 3.93 s\n",
      "Time elapsed in ParallelEulerMaruyama class with n_jobs=2: 4.40 s\n"
     ]
    }
   ],
   "source": [
    "print(f\"Time elapsed in EulerMaruyama class: {seq_em_time:.2f} s\")\n",
    "print(f\"Time elapsed in ParallelEulerMaruyama class with n_jobs={parallel_em.n_jobs}: {parallel_em_time:.2f} s\")"
   ]
  },
  {
   "attachments": {},
   "cell_type": "markdown",
   "id": "2ff56e78",
   "metadata": {},
   "source": [
    "Still not working... Let us try all possible values of `n_jobs` from 1 (sequential processing) to 10 and plot the result:"
   ]
  },
  {
   "cell_type": "code",
   "execution_count": 28,
   "id": "1dda2d42",
   "metadata": {},
   "outputs": [],
   "source": [
    "parallel_results = []\n",
    "n_jobs_values = range(1, 11)\n",
    "for i in n_jobs_values:\n",
    "    parallel_em.n_jobs = i\n",
    "    \n",
    "    start_time = time.time()\n",
    "    results_parallel_em = parallel_em.compute_numerical_approximation()\n",
    "    end_time = time.time()\n",
    "    parallel_em_time = end_time - start_time\n",
    "    \n",
    "    parallel_results.append(parallel_em_time)"
   ]
  },
  {
   "cell_type": "code",
   "execution_count": 29,
   "id": "65dc2da0",
   "metadata": {},
   "outputs": [
    {
     "data": {
      "image/png": "[encoded data removed]",
      "text/plain": [
       "<Figure size 1000x700 with 1 Axes>"
      ]
     },
     "metadata": {},
     "output_type": "display_data"
    }
   ],
   "source": [
    "import matplotlib.pyplot as plt\n",
    "\n",
    "fig, ax = plt.subplots(figsize=(10, 7))\n",
    "\n",
    "ax.scatter(n_jobs_values, parallel_results, label=\"ParallelEulerMaruyama\", color=\"red\")\n",
    "ax.axhline(y=seq_em_time, label=\"EulerMaruyama\")\n",
    "\n",
    "ax.set_xticks(n_jobs_values)\n",
    "\n",
    "ax.set_xlabel(\"n_jobs parameter (Number of cores)\")\n",
    "ax.set_ylabel(\"time elapsed [s]\")\n",
    "ax.set_title(\"Time to compute 1000000 simulations of the EM method\")\n",
    "\n",
    "ax.legend(loc=0)\n",
    "\n",
    "plt.show()"
   ]
  },
  {
   "attachments": {},
   "cell_type": "markdown",
   "id": "1ab62140",
   "metadata": {},
   "source": [
    "In this simple example encompassing 1,000,000 simulations of the EM method, parallel processing shows improved performance over numpy vectorization when using more than three cores. Compared to the earlier case where we performed 1,000 simulations, the task is much larger. This means we save quite a lot of time through parallelising it, which more than offsets the additional time taken to set up the parallel processing jobs and recombine the array at the end. This sort of pattern is fairly typical of parallel programming - it will tend to slow down smaller tasks, but may speed up larger tasks."
   ]
  }
 ],
 "metadata": {
  "kernelspec": {
   "display_name": "Python 3 (ipykernel)",
   "language": "python",
   "name": "python3"
  },
  "language_info": {
   "codemirror_mode": {
    "name": "ipython",
    "version": 3
   },
   "file_extension": ".py",
   "mimetype": "text/x-python",
   "name": "python",
   "nbconvert_exporter": "python",
   "pygments_lexer": "ipython3",
   "version": "3.9.7"
  }
 },
 "nbformat": 4,
 "nbformat_minor": 5
}
