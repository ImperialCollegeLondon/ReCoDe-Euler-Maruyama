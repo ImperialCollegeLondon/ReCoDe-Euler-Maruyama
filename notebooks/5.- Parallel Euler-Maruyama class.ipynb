{
 "cells": [
  {
   "cell_type": "markdown",
   "id": "2aa696a0",
   "metadata": {},
   "source": [
    "# 5.- Parallel Euler-Maruyama class\n",
    "\n",
    "In our previous explanations, we covered the process of solving a Stochastic Differential Equation (SDE) using the Euler-Maruyama method. Moreover, we learnt to encapsulate the logic of the EM method into a Python class, the `EulerMaruyama`. This class implementation provides code reusability and modularity, making the `EulerMaruyama` class a versatile numerical tool for solving user-defined SDEs. It also allows us to analyse the performance of the EM method by modifying input parameters such as the number of time steps or the number of simulations.\n",
    "\n",
    "The aim of this notebook is to improve the perfomance of the already implemented `EulerMaruyama` class. To achieve this, we will design a child class of `EulerMaruyama` class that provides parallel computing to optimise the numerical solution of the EM method. This new class introduces the concept of parallel computation and highlights the advantages of object-oriented programming, refrehsing the concept of inheritance."
   ]
  },
  {
   "cell_type": "markdown",
   "id": "c494c07d",
   "metadata": {},
   "source": [
    "## Contents\n",
    "### [A. Parallel computation: the Joblib package](#joblib)\n",
    "### [B. The Parallel Euler-Maruyama class](#parallel-em-class)"
   ]
  },
  {
   "cell_type": "markdown",
   "id": "f6e5fb59",
   "metadata": {},
   "source": [
    "<a id=\"joblib\"></a>\n",
    "### A. Parallel computation: the Joblib package\n",
    "\n",
    "Parallel computing refers to the technique of executing several computational tasks simultaneously, dividing the required workload across multiple cores. The presence of multiple cores in modern laptops enables parallel processing, where different cores can handle separate tasks. By relying on this core multiplicity, parallel computation can significantly speed up computations that can be divided into independent parts. By harnessing the power of parallel processing, parallel computing enables faster execution times, improved performance, and the ability to handle larger and more complex computations. To learn more about parallel computing in Python, you can refer to the following link: [Python Concurrency - What is Parallelism?](https://realpython.com/python-concurrency/#what-is-parallelism). Please note that the linked resource covers additional topics beyond the scope of this project.\n",
    "\n",
    "With the following code, you can check the number of CPU cores in your local machine:"
   ]
  },
  {
   "cell_type": "code",
   "execution_count": 1,
   "id": "e8228bca",
   "metadata": {},
   "outputs": [
    {
     "name": "stdout",
     "output_type": "stream",
     "text": [
      "Number of CPU cores: 10\n"
     ]
    }
   ],
   "source": [
    "import joblib\n",
    "\n",
    "num_cores = joblib.cpu_count()\n",
    "print(\"Number of CPU cores:\", num_cores)"
   ]
  },
  {
   "cell_type": "markdown",
   "id": "37f8a344",
   "metadata": {},
   "source": [
    "Here, we have introduced the Python `joblib` package, which simplifies and automates parallel computing tasks. It provides easy-to-use functions and utilities for distributing tasks across multiple cores, without requiring intricate low-level coding. `joblib` offers a high-level interface for parallel computing, making it accessible and convenient for users who want to leverage the power of parallel processing without dealing with the complexities of threading or multiprocessing in Python. You can check the `joblib` documentation in this [link](https://joblib.readthedocs.io/en/stable/).\n",
    "\n",
    "\n",
    "To illustrate the advantages of parallel computing, we show a simple example using the `joblib` package. Through this example, we demonstrate how parallel processing can significantly reduce computation time yielding an equivalent result."
   ]
  },
  {
   "cell_type": "code",
   "execution_count": 2,
   "id": "5ce98267",
   "metadata": {},
   "outputs": [],
   "source": [
    "# Import required functions from joblib\n",
    "from joblib import Parallel, delayed\n",
    "import time\n",
    "\n",
    "def process_data(data):\n",
    "    time.sleep(1)  # this line waits for 1 to simulate the behaviour of a time-consuming task \n",
    "    result = data * 2\n",
    "    return result"
   ]
  },
  {
   "cell_type": "code",
   "execution_count": 3,
   "id": "59cdb1fd",
   "metadata": {},
   "outputs": [],
   "source": [
    "# Compute a sequential processing: all calculations are done in 1 single core\n",
    "start_time = time.time()\n",
    "results_seq = [process_data(data) for data in range(10)]\n",
    "end_time = time.time()\n",
    "seq_time = end_time - start_time"
   ]
  },
  {
   "cell_type": "code",
   "execution_count": 4,
   "id": "bf02ff63",
   "metadata": {},
   "outputs": [],
   "source": [
    "# Compute a parallel processing: all calculations are split into 4 cores. \n",
    "start_time = time.time()\n",
    "# This is the joblib implementation to send all elements of the for loop into distinct cores\n",
    "# The cores are specified with the n_job parameter. Here, we specifiy 4 cores.\n",
    "results_parallel = Parallel(n_jobs=4)(delayed(process_data)(data) for data in range(10))\n",
    "end_time = time.time()\n",
    "parallel_time = end_time - start_time"
   ]
  },
  {
   "cell_type": "code",
   "execution_count": 5,
   "id": "5c8ba7b2",
   "metadata": {},
   "outputs": [
    {
     "name": "stdout",
     "output_type": "stream",
     "text": [
      "Sequential Results: [0, 2, 4, 6, 8, 10, 12, 14, 16, 18] in 10.03 s\n",
      "Parallel Results: [0, 2, 4, 6, 8, 10, 12, 14, 16, 18] in 3.66 s\n"
     ]
    }
   ],
   "source": [
    "# Check results\n",
    "print(f\"Sequential Results: {results_seq} in {seq_time:.2f} s\" )\n",
    "print(f\"Parallel Results: {results_parallel} in {parallel_time:.2f} s\")"
   ]
  },
  {
   "cell_type": "markdown",
   "id": "b5d3e749",
   "metadata": {},
   "source": [
    "By using 4 cores, we reduce 50% of the computation time! Now, let us try a different numbers of `n_jobs` values to see the effect in the computation time."
   ]
  },
  {
   "cell_type": "code",
   "execution_count": 6,
   "id": "fa89ce7a",
   "metadata": {},
   "outputs": [
    {
     "name": "stdout",
     "output_type": "stream",
     "text": [
      "Parallel Results with n_jobs=1: [0, 2, 4, 6, 8, 10, 12, 14, 16, 18] in 10.04 s\n"
     ]
    }
   ],
   "source": [
    "# n_jobs=1 means no parallel computation\n",
    "start_time = time.time()\n",
    "results_parallel = Parallel(n_jobs=1)(delayed(process_data)(data) for data in range(10))\n",
    "end_time = time.time()\n",
    "parallel_time = end_time - start_time\n",
    "\n",
    "print(f\"Parallel Results with n_jobs=1: {results_parallel} in {parallel_time:.2f} s\")"
   ]
  },
  {
   "cell_type": "code",
   "execution_count": 7,
   "id": "09fe7ff9",
   "metadata": {},
   "outputs": [
    {
     "name": "stdout",
     "output_type": "stream",
     "text": [
      "Parallel Results with n_jobs=2: [0, 2, 4, 6, 8, 10, 12, 14, 16, 18] in 5.60 s\n"
     ]
    }
   ],
   "source": [
    "# 2 cores \n",
    "start_time = time.time()\n",
    "results_parallel = Parallel(n_jobs=2)(delayed(process_data)(data) for data in range(10))\n",
    "end_time = time.time()\n",
    "parallel_time = end_time - start_time\n",
    "\n",
    "print(f\"Parallel Results with n_jobs=2: {results_parallel} in {parallel_time:.2f} s\")"
   ]
  },
  {
   "cell_type": "code",
   "execution_count": 8,
   "id": "9d499bb8",
   "metadata": {},
   "outputs": [
    {
     "name": "stdout",
     "output_type": "stream",
     "text": [
      "Parallel Results with n_jobs=7: [0, 2, 4, 6, 8, 10, 12, 14, 16, 18] in 2.63 s\n"
     ]
    }
   ],
   "source": [
    "# 6 cores\n",
    "start_time = time.time()\n",
    "results_parallel = Parallel(n_jobs=6)(delayed(process_data)(data) for data in range(10))\n",
    "end_time = time.time()\n",
    "parallel_time = end_time - start_time\n",
    "\n",
    "print(f\"Parallel Results with n_jobs=7: {results_parallel} in {parallel_time:.2f} s\")"
   ]
  },
  {
   "cell_type": "code",
   "execution_count": 9,
   "id": "311f8710",
   "metadata": {},
   "outputs": [
    {
     "name": "stdout",
     "output_type": "stream",
     "text": [
      "Parallel Results with n_jobs=7: [0, 2, 4, 6, 8, 10, 12, 14, 16, 18] in 1.54 s\n"
     ]
    }
   ],
   "source": [
    "# 10 cores\n",
    "# Note that if your laptop has less cores, setting this to 10 would be equivalent to setting maximum number of cores\n",
    "start_time = time.time()\n",
    "results_parallel = Parallel(n_jobs=10)(delayed(process_data)(data) for data in range(10))\n",
    "end_time = time.time()\n",
    "parallel_time = end_time - start_time\n",
    "\n",
    "print(f\"Parallel Results with n_jobs=7: {results_parallel} in {parallel_time:.2f} s\")"
   ]
  },
  {
   "cell_type": "markdown",
   "id": "e45576ec",
   "metadata": {},
   "source": [
    "`n_jobs=10` yields the minimum time elapsed in this particular example. This result is specific of this simple example, since we can allocate each element of the for loop into a different core. This ensures that the workload is evenly distributed across the cores, processing `process_data` only once in each core. The optimal value of `n_jobs` will depend on the specific task at hand."
   ]
  },
  {
   "cell_type": "markdown",
   "id": "15efc4c1",
   "metadata": {},
   "source": [
    "<a id=\"parallel-em-class\"></a>\n",
    "### B. The Parallel Euler-Maruyama class\n",
    "\n",
    "Once we have explained parallel computing and how to use the `joblib` package, we introduce a new class `ParallelEulerMaruyama` in the `src/euler_maruyama/parallel_euler_maruyama.py` file. This class replicates the functionality of the `EulerMaruyama` class and provides parallel computation of the numerical approximation. We achieve such functionality relying on class inheritance. Therefore, `ParallelEulerMaruyama` is a child class of `EulerMaruyama`:\n",
    "\n",
    "```\n",
    "from .euler_maruyama import EulerMaruyama\n",
    "\n",
    "class ParallelEulerMaruyama(EulerMaruyama):\n",
    "```\n",
    "\n",
    "By doing so, `ParallelEulerMaruyama` has the same attributes and methods that `EulerMaruyama`. Now, our aim is to modify the `compute_numerical_approximation` method to include the parallel computing. If we define a new method called `compute_numerical_approximation` in the `ParallelEulerMaruyama` class, we are overrriding this method. Overriding a method redefines the implementation of the parent class. When a method if overriden, the child class provides a different implementation of the method, replacing the logic inherited from the parent class. By overriding a method, we can redefine the behavior of a particular method for a specific child class, allowing it to have its own unique functionality while still inheriting other characteristics from the parent class.\n",
    "\n",
    "```\n",
    "from .euler_maruyama import EulerMaruyama\n",
    "\n",
    "class ParallelEulerMaruyama(EulerMaruyama):\n",
    "\n",
    "    # __init__ and some code ...\n",
    "\n",
    "    def compute_numerical_approximation(self) -> np.ndarray:\n",
    "        # a distinct implementation from compute_numerical_approximation of EulerMaruyama\n",
    "```\n",
    "\n",
    "The `EulerMaruyama` class performs the numerical solution for all simulated trajectories simultaneosuly. By using `numpy` vectorisation, the method `_solve_numerical_approximation` efficiently updates the numerical approximation across all time steps for the specified number (`dim`) of simulated trajectories. This is precisely the reason of implementing the method `compute_numerical_approximation` in `EulerMaruyama` class as follows:\n",
    "\n",
    "```\n",
    "def compute_numerical_approximation(self) -> np.ndarray:\n",
    "    self.Y = self._solve_numerical_approximation(dim=self._n_sim)  # we are solving for all _n_sim simulations \n",
    "    return self.Y\n",
    "```\n",
    "\n",
    "On the other hand, we would like to split all specified simulations `_n_sim` into different batches. and compute each batch in a different core. To achieve this, we use the parallel computing approach we have commented in the previous section. Therefore, we require to define a number of batches and split the number of simulations `_n_sim` into different batches. The number of batches is specified in the class constructor with `n_jobs`, which follows a property pattern. The `_num_sim_bat` method then calculates the number of simulations that should be in each batch:\n",
    "\n",
    "```\n",
    "def _num_sim_batch(self) -> list[int]:\n",
    "    batch_size = self._n_sim // self._n_jobs\n",
    "    remainder = self._n_sim % self._n_jobs\n",
    "\n",
    "    batches = [batch_size] * (self._n_jobs - remainder) + [batch_size + 1] * remainder\n",
    "\n",
    "    return batches\n",
    "```\n",
    "\n",
    "For example, for `_n_sim=1234` and `_n_jobs=3`, `_num_sim_batch` returns: `[411, 411, 412]`. We can use the result of `_num_sim_batch` inside the `compute_numerical_approximation` of `ParallelEulerMaruyama`:\n",
    "\n",
    "```\n",
    "def compute_numerical_approximation(self) -> np.ndarray:\n",
    "    Y_dim_batch_list = self._num_sim_batch()\n",
    "\n",
    "    Y = Parallel(n_jobs=self._n_jobs)(\n",
    "        delayed(self._solve_numerical_approximation)(dim=Y_dim) for Y_dim in Y_dim_batch_list\n",
    "    )\n",
    "\n",
    "    self.Y = np.concatenate(Y, axis=0)\n",
    "\n",
    "    return self.Y\n",
    "```\n",
    "\n",
    "We have our parallel computation of the EM method! We will solve a particular SDE with different parameters to see the advantage of using parallel processing. "
   ]
  },
  {
   "cell_type": "code",
   "execution_count": 10,
   "id": "975b167b",
   "metadata": {},
   "outputs": [],
   "source": [
    "import sys\n",
    " \n",
    "# we include outside folders in path\n",
    "sys.path.append('..')\n",
    "\n",
    "from src.euler_maruyama import ConstantDiffusion, EulerMaruyama, LinearDrift, ParallelEulerMaruyama"
   ]
  },
  {
   "cell_type": "code",
   "execution_count": 11,
   "id": "b530b38a",
   "metadata": {},
   "outputs": [],
   "source": [
    "linear_drift = LinearDrift(a=1)  # drift (mu) = 1*t\n",
    "constant_diffusion = ConstantDiffusion(b=2.5)  # diffusion (sigma) = 2.5 "
   ]
  },
  {
   "cell_type": "markdown",
   "id": "d166f30c",
   "metadata": {},
   "source": [
    "We start with the simpe example of `n_steps=100` and `n_sim=1_000`."
   ]
  },
  {
   "cell_type": "code",
   "execution_count": 12,
   "id": "8690c0c1",
   "metadata": {},
   "outputs": [],
   "source": [
    "em = EulerMaruyama(t_0=0, \n",
    "                   t_n=2, \n",
    "                   n_steps=100, \n",
    "                   X_0=1, \n",
    "                   drift=linear_drift, \n",
    "                   diffusion=constant_diffusion, \n",
    "                   n_sim=1_000)"
   ]
  },
  {
   "cell_type": "code",
   "execution_count": 13,
   "id": "7faa81af",
   "metadata": {},
   "outputs": [],
   "source": [
    "start_time = time.time()\n",
    "results_seq_em = em.compute_numerical_approximation()\n",
    "end_time = time.time()\n",
    "seq_em_time = end_time - start_time"
   ]
  },
  {
   "cell_type": "markdown",
   "id": "fe79a488",
   "metadata": {},
   "source": [
    "And we try with `n_jobs=2`"
   ]
  },
  {
   "cell_type": "code",
   "execution_count": 14,
   "id": "4d3093b5",
   "metadata": {},
   "outputs": [],
   "source": [
    "parallel_em = ParallelEulerMaruyama(t_0=0, \n",
    "                                    t_n=2, \n",
    "                                    n_steps=100, \n",
    "                                    X_0=1, \n",
    "                                    drift=linear_drift, \n",
    "                                    diffusion=constant_diffusion, \n",
    "                                    n_sim=1_000, \n",
    "                                    n_jobs=2)"
   ]
  },
  {
   "cell_type": "code",
   "execution_count": 15,
   "id": "f4129ec7",
   "metadata": {},
   "outputs": [],
   "source": [
    "start_time = time.time()\n",
    "results_parallel_em = parallel_em.compute_numerical_approximation()\n",
    "end_time = time.time()\n",
    "parallel_em_time = end_time - start_time"
   ]
  },
  {
   "cell_type": "code",
   "execution_count": 16,
   "id": "e29d11f2",
   "metadata": {},
   "outputs": [
    {
     "name": "stdout",
     "output_type": "stream",
     "text": [
      "Time elapsed in EulerMaruyama class: 0.01 s\n",
      "Time elapsed in ParallelEulerMaruyama class with n_jobs=2: 0.86 s\n"
     ]
    }
   ],
   "source": [
    "print(f\"Time elapsed in EulerMaruyama class: {seq_em_time:.2f} s\")\n",
    "print(f\"Time elapsed in ParallelEulerMaruyama class with n_jobs={parallel_em.n_jobs}: {parallel_em_time:.2f} s\")"
   ]
  },
  {
   "cell_type": "markdown",
   "id": "35822bc6",
   "metadata": {},
   "source": [
    "It seems that for this simple and reduced example `numpy` vectorisation is faster than parallel processing. Let us try another number of `n_jobs`:"
   ]
  },
  {
   "cell_type": "code",
   "execution_count": 17,
   "id": "52505186",
   "metadata": {},
   "outputs": [
    {
     "name": "stdout",
     "output_type": "stream",
     "text": [
      "Time elapsed in ParallelEulerMaruyama class with n_jobs=5: 0.90 s\n"
     ]
    }
   ],
   "source": [
    "parallel_em.n_jobs = 5\n",
    "start_time = time.time()\n",
    "results_parallel_em = parallel_em.compute_numerical_approximation()\n",
    "end_time = time.time()\n",
    "parallel_em_time = end_time - start_time\n",
    "print(f\"Time elapsed in ParallelEulerMaruyama class with n_jobs={parallel_em.n_jobs}: {parallel_em_time:.2f} s\")"
   ]
  },
  {
   "cell_type": "code",
   "execution_count": 18,
   "id": "02144486",
   "metadata": {},
   "outputs": [
    {
     "name": "stdout",
     "output_type": "stream",
     "text": [
      "Time elapsed in ParallelEulerMaruyama class with n_jobs=10: 1.18 s\n"
     ]
    }
   ],
   "source": [
    "parallel_em.n_jobs = 10\n",
    "start_time = time.time()\n",
    "results_parallel_em = parallel_em.compute_numerical_approximation()\n",
    "end_time = time.time()\n",
    "parallel_em_time = end_time - start_time\n",
    "print(f\"Time elapsed in ParallelEulerMaruyama class with n_jobs={parallel_em.n_jobs}: {parallel_em_time:.2f} s\")"
   ]
  },
  {
   "cell_type": "markdown",
   "id": "81db4157",
   "metadata": {},
   "source": [
    "No, any value of `n_jobs` improves the performance of the `ParallelEulerMaruyama` over the seuqential-style `EuelerMaruyama` class. The reason is that the number of steps and number of simulations is such small, that it takes more time to prepare the parallel processing than processing everything into a single core.\n",
    "\n",
    "Now, let us try to increase the number of simulations to `n_sim=1_000_000`:"
   ]
  },
  {
   "cell_type": "code",
   "execution_count": 19,
   "id": "d570a47d",
   "metadata": {},
   "outputs": [],
   "source": [
    "em = EulerMaruyama(t_0=0, \n",
    "                   t_n=2, \n",
    "                   n_steps=100, \n",
    "                   X_0=1, \n",
    "                   drift=linear_drift, \n",
    "                   diffusion=constant_diffusion, \n",
    "                   n_sim=1_000_000)"
   ]
  },
  {
   "cell_type": "code",
   "execution_count": 20,
   "id": "6a29ff10",
   "metadata": {},
   "outputs": [],
   "source": [
    "start_time = time.time()\n",
    "results_seq_em = em.compute_numerical_approximation()\n",
    "end_time = time.time()\n",
    "seq_em_time = end_time - start_time"
   ]
  },
  {
   "cell_type": "code",
   "execution_count": 21,
   "id": "65b7f079",
   "metadata": {},
   "outputs": [],
   "source": [
    "parallel_em = ParallelEulerMaruyama(t_0=0, \n",
    "                                    t_n=2, \n",
    "                                    n_steps=100, \n",
    "                                    X_0=1, \n",
    "                                    drift=linear_drift, \n",
    "                                    diffusion=constant_diffusion, \n",
    "                                    n_sim=1_000_000, \n",
    "                                    n_jobs=2)"
   ]
  },
  {
   "cell_type": "code",
   "execution_count": 22,
   "id": "62f30abb",
   "metadata": {},
   "outputs": [],
   "source": [
    "start_time = time.time()\n",
    "results_parallel_em = parallel_em.compute_numerical_approximation()\n",
    "end_time = time.time()\n",
    "parallel_em_time = end_time - start_time"
   ]
  },
  {
   "cell_type": "code",
   "execution_count": 23,
   "id": "675ea222",
   "metadata": {},
   "outputs": [
    {
     "name": "stdout",
     "output_type": "stream",
     "text": [
      "Time elapsed in EulerMaruyama class: 3.85 s\n",
      "Time elapsed in ParallelEulerMaruyama class with n_jobs=2: 4.41 s\n"
     ]
    }
   ],
   "source": [
    "print(f\"Time elapsed in EulerMaruyama class: {seq_em_time:.2f} s\")\n",
    "print(f\"Time elapsed in ParallelEulerMaruyama class with n_jobs={parallel_em.n_jobs}: {parallel_em_time:.2f} s\")"
   ]
  },
  {
   "cell_type": "markdown",
   "id": "c2a2845c",
   "metadata": {},
   "source": [
    "Still not working... Let us try all possible values of `n_jobs` from 1 (sequential processing) to 10 and plot the result:"
   ]
  },
  {
   "cell_type": "code",
   "execution_count": 24,
   "id": "8066c0ad",
   "metadata": {},
   "outputs": [],
   "source": [
    "parallel_results = []\n",
    "n_jobs_values = range(1, 11)\n",
    "for i in n_jobs_values:\n",
    "    parallel_em.n_jobs = i\n",
    "    \n",
    "    start_time = time.time()\n",
    "    results_parallel_em = parallel_em.compute_numerical_approximation()\n",
    "    end_time = time.time()\n",
    "    parallel_em_time = end_time - start_time\n",
    "    \n",
    "    parallel_results.append(parallel_em_time)"
   ]
  },
  {
   "cell_type": "code",
   "execution_count": 25,
   "id": "783f2a8e",
   "metadata": {},
   "outputs": [
    {
     "data": {
      "image/png": "[encoded data removed]",
      "text/plain": [
       "<Figure size 1000x700 with 1 Axes>"
      ]
     },
     "metadata": {},
     "output_type": "display_data"
    }
   ],
   "source": [
    "import matplotlib.pyplot as plt\n",
    "\n",
    "fig, ax = plt.subplots(figsize=(10, 7))\n",
    "\n",
    "ax.scatter(n_jobs_values, parallel_results, label=\"ParallelEulerMaruyama\", color=\"red\")\n",
    "ax.axhline(y=seq_em_time, label=\"EulerMaruyama\")\n",
    "\n",
    "ax.set_xticks(n_jobs_values)\n",
    "\n",
    "ax.set_xlabel(\"n_jobs parameter (Number of cores)\")\n",
    "ax.set_ylabel(\"time elapsed [s]\")\n",
    "ax.set_title(\"Time to compute 1000000 simulations of the EM method\")\n",
    "\n",
    "ax.legend(loc=0)\n",
    "\n",
    "plt.show()"
   ]
  },
  {
   "cell_type": "markdown",
   "id": "df1d0e34",
   "metadata": {},
   "source": [
    "In this simple example encompassing 1,000,000 simulations of the EM method, parallel processing shows improved performance over numpy vectorization when using more than three cores."
   ]
  }
 ],
 "metadata": {
  "kernelspec": {
   "display_name": "Python 3 (ipykernel)",
   "language": "python",
   "name": "python3"
  },
  "language_info": {
   "codemirror_mode": {
    "name": "ipython",
    "version": 3
   },
   "file_extension": ".py",
   "mimetype": "text/x-python",
   "name": "python",
   "nbconvert_exporter": "python",
   "pygments_lexer": "ipython3",
   "version": "3.9.7"
  }
 },
 "nbformat": 4,
 "nbformat_minor": 5
}
